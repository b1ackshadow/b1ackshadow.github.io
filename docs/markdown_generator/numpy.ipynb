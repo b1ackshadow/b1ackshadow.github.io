{
 "cells": [
  {
   "cell_type": "markdown",
   "id": "b26464d8",
   "metadata": {},
   "source": [
    "## Numpy basics for Data Science"
   ]
  },
  {
   "cell_type": "markdown",
   "id": "b7e8f351",
   "metadata": {},
   "source": [
    "NumPy is short for numerical python. As the name dictates, it is used for numerical computing like linear algebra, statistical computations .\n",
    "\n",
    "Most notable features of numpy:-\n",
    "\n",
    "* ndarray - supports efficient multidimensional array for fast parallelised arithmetic operations (vectorized SIMD operations [[1]](https://towardsdatascience.com/decoding-the-performance-secret-of-worlds-most-popular-data-science-library-numpy-7a7da54b7d72/) )\n",
    "* No loop - you can directly operate on the array without having to use python loops\n",
    "* r/w files - supports directly saving arrays into disk and memory-mapped files(virtual memory space)\n",
    "* maths - Linear algebra, statistical methods, Fourier transform etc\n",
    "* C api - Numpy is built on C, C++ and FORTRAN . You can interact with such libs. \n",
    "\n",
    "You can learn more about numpy by heading over to [numpy docs](https://numpy.org/doc/stable/user/whatisnumpy.html)"
   ]
  },
  {
   "cell_type": "markdown",
   "id": "90a94794",
   "metadata": {},
   "source": [
    "#### Things we are going to learn:\n",
    "\n",
    "* Fast vectorized array operations like cleaning, munging, filtering, transformations etc\n",
    "* sorting, unique and set operations\n",
    "* descriptive stats, summarizing data\n",
    "* merging and joining datasets\n",
    "* conditional logic as array exp\n",
    "* Group-wise data manipulation\n",
    "\n"
   ]
  },
  {
   "cell_type": "markdown",
   "id": "43bdbc75",
   "metadata": {},
   "source": [
    "Just to give you a taste of why you would choose numpy over python sequences for array based operations, you can refer the below ipython test:"
   ]
  },
  {
   "cell_type": "code",
   "execution_count": 1,
   "id": "53cc726d",
   "metadata": {},
   "outputs": [],
   "source": [
    "# Note we are not including these inside the time block \n",
    "#because we want to test the speed of the operation not the data initialization\n",
    "\n",
    "import numpy as np\n",
    "\n",
    "arr = np.arange(100000)\n",
    "\n",
    "lst = list(range(100000))"
   ]
  },
  {
   "cell_type": "code",
   "execution_count": 5,
   "id": "ff9665f1",
   "metadata": {},
   "outputs": [
    {
     "name": "stdout",
     "output_type": "stream",
     "text": [
      "178 µs ± 25.2 µs per loop (mean ± std. dev. of 7 runs, 10 loops each)\n"
     ]
    }
   ],
   "source": [
    "%%timeit -n10\n",
    "    \n",
    "result = arr * 2"
   ]
  },
  {
   "cell_type": "code",
   "execution_count": 6,
   "id": "70707003",
   "metadata": {},
   "outputs": [
    {
     "name": "stdout",
     "output_type": "stream",
     "text": [
      "5.12 ms ± 777 µs per loop (mean ± std. dev. of 7 runs, 10 loops each)\n"
     ]
    }
   ],
   "source": [
    "%%timeit -n10\n",
    "    \n",
    "result = [each * 2 for each in lst]"
   ]
  },
  {
   "cell_type": "markdown",
   "id": "32b59656",
   "metadata": {},
   "source": [
    "To put it into perspective,\n",
    "\n",
    "1 millisecond is equal to 1000 microsecond.\n",
    "\n",
    "So python 5000 >>> numpy 178 microseconds"
   ]
  },
  {
   "cell_type": "markdown",
   "id": "349a9c78",
   "metadata": {},
   "source": [
    "## 1.1 Numpy ndarray\n",
    "\n",
    "Numpy homogeneous ndarray allows us to perform efficient array operations directly on the whole block of array as opposed to loops as if the array is just a scalar element(like in pure python)"
   ]
  },
  {
   "cell_type": "code",
   "execution_count": 22,
   "id": "8ca531e4",
   "metadata": {},
   "outputs": [
    {
     "name": "stdout",
     "output_type": "stream",
     "text": [
      "Python list operation: [0, 1, 4, 9, 16, 25, 36, 49, 64, 81]\n",
      "Numpy array operation: [ 0  1  4  9 16 25 36 49 64 81]\n"
     ]
    }
   ],
   "source": [
    "data_np = np.arange(10,dtype=int)\n",
    "data_py = list(range(10))\n",
    "\n",
    "#python list operation\n",
    "squares_py = [ e ** 2 for e in data_py]\n",
    "print(\"Python list operation:\", squares_py)\n",
    "\n",
    "#numpy scalar looking array operation\n",
    "squares_np = data_np ** 2\n",
    "print(\"Numpy array operation:\",squares_np)\n",
    "\n",
    "# similarly we can perform add, subtract, multiply and division etc.\n",
    "\n",
    "#print(data_np - 2)\n",
    "#print(data_np * 2)\n",
    "#print(data_np / 2)"
   ]
  },
  {
   "cell_type": "markdown",
   "id": "956ec9c0",
   "metadata": {},
   "source": [
    "Every numpy ndarray has attributes to check the dimension and the data type. "
   ]
  },
  {
   "cell_type": "code",
   "execution_count": 35,
   "id": "b9e0d16a",
   "metadata": {},
   "outputs": [
    {
     "name": "stdout",
     "output_type": "stream",
     "text": [
      "Dimension/shape of the data: (10, 20)\n",
      "Datatype: float64\n"
     ]
    }
   ],
   "source": [
    "data = np.random.randn(10,20)\n",
    "print(\"Dimension/shape of the data:\",data.shape)\n",
    "print(\"Datatype:\",data.dtype)"
   ]
  },
  {
   "cell_type": "markdown",
   "id": "9c64806d",
   "metadata": {},
   "source": [
    "I hope the above introduction was enough to get you excited about numpy. Now we will be going through basic numpy concepts one bye one. "
   ]
  },
  {
   "cell_type": "markdown",
   "id": "a69c425f",
   "metadata": {},
   "source": [
    "### Creating ndarrays\n",
    "\n",
    "`array` function can be used to create an ndarray using any sequence(list, another array etc). This function returns a new array so you can use it to make copies of arrays as well."
   ]
  },
  {
   "cell_type": "code",
   "execution_count": 36,
   "id": "c8285642",
   "metadata": {},
   "outputs": [
    {
     "name": "stdout",
     "output_type": "stream",
     "text": [
      "[1, 2, 3, 4, 5]\n",
      "[1 2 3 4 5]\n"
     ]
    }
   ],
   "source": [
    "my_list = [1,2,3,4,5]\n",
    "print(my_list)\n",
    "\n",
    "my_arr = np.array(my_list)\n",
    "print(my_arr)"
   ]
  },
  {
   "cell_type": "markdown",
   "id": "3057e091",
   "metadata": {},
   "source": [
    "Hmm. What if I have nested lists ?"
   ]
  },
  {
   "cell_type": "code",
   "execution_count": 38,
   "id": "3d8cd4bc",
   "metadata": {},
   "outputs": [
    {
     "name": "stdout",
     "output_type": "stream",
     "text": [
      "[[0, 1, 2, 3, 4, 5, 6, 7, 8, 9], [0, 1, 2, 3, 4, 5, 6, 7, 8, 9]] \n",
      "\n",
      "[[0 1 2 3 4 5 6 7 8 9]\n",
      " [0 1 2 3 4 5 6 7 8 9]]\n"
     ]
    }
   ],
   "source": [
    "my_list = [list(range(10)),list(range(10))]\n",
    "print(my_list,\"\\n\")\n",
    "\n",
    "my_arr = np.array(my_list)\n",
    "print(my_arr)"
   ]
  },
  {
   "cell_type": "markdown",
   "id": "6adfe205",
   "metadata": {},
   "source": [
    "Generally, when working with matrices, ndarrys, people tend to use common array initializations like identity matrix, all-ones matrix, zero matrix or just an empty array without any values. For this reaons, numpy provides us with some helper functions to achieve the same."
   ]
  },
  {
   "cell_type": "code",
   "execution_count": 54,
   "id": "28f8b772",
   "metadata": {},
   "outputs": [
    {
     "name": "stdout",
     "output_type": "stream",
     "text": [
      "[[1. 0. 0. 0.]\n",
      " [0. 1. 0. 0.]\n",
      " [0. 0. 1. 0.]\n",
      " [0. 0. 0. 1.]] \n",
      "\n",
      "[[1. 1.]\n",
      " [1. 1.]\n",
      " [1. 1.]\n",
      " [1. 1.]] \n",
      "\n",
      "[[0. 0.]\n",
      " [0. 0.]\n",
      " [0. 0.]\n",
      " [0. 0.]] \n",
      "\n",
      "[[1. 1.]\n",
      " [1. 1.]] \n",
      "\n"
     ]
    }
   ],
   "source": [
    "print(np.eye(4,4),\"\\n\")\n",
    "\n",
    "print(np.ones((4,2)),\"\\n\")\n",
    "\n",
    "print(np.zeros((4,2)),\"\\n\")\n",
    "\n",
    "print(np.empty([2, 2]),\"\\n\")"
   ]
  },
  {
   "cell_type": "code",
   "execution_count": 50,
   "id": "5f27a5b4",
   "metadata": {},
   "outputs": [
    {
     "name": "stdout",
     "output_type": "stream",
     "text": [
      "[0 1 2 3 4 5 6 7 8 9]\n"
     ]
    }
   ],
   "source": [
    "# arange is similar to python range\n",
    "\n",
    "print(np.arange(10))"
   ]
  },
  {
   "cell_type": "markdown",
   "id": "5fb07826",
   "metadata": {},
   "source": [
    "Numpy datatypes help it allocate memory and efficient work with it unlike python's dynamic memory allocation. You can use \"dtype\" attribute to work with datatypes in numpy"
   ]
  },
  {
   "cell_type": "code",
   "execution_count": 59,
   "id": "b471204f",
   "metadata": {},
   "outputs": [
    {
     "name": "stdout",
     "output_type": "stream",
     "text": [
      "int64\n"
     ]
    },
    {
     "data": {
      "text/plain": [
       "dtype('int32')"
      ]
     },
     "execution_count": 59,
     "metadata": {},
     "output_type": "execute_result"
    }
   ],
   "source": [
    "arr = np.array([1,2,3])\n",
    "print(arr.dtype)\n",
    "\n",
    "np.array([1,2,3,4],dtype=np.int32).dtype"
   ]
  },
  {
   "cell_type": "markdown",
   "id": "a7fb5377",
   "metadata": {},
   "source": [
    "You can covert numpy arrays from one datatype to another as long as they are compatible. If floating point numbers are converted to int, the decimal part is truncated. Also it's worth to note that astype always returns a copy of the data even if type is unchanged."
   ]
  },
  {
   "cell_type": "code",
   "execution_count": 62,
   "id": "b4e57b35",
   "metadata": {},
   "outputs": [
    {
     "name": "stdout",
     "output_type": "stream",
     "text": [
      "int64\n",
      "int8\n",
      "float64\n",
      "[1 2 3]\n"
     ]
    }
   ],
   "source": [
    "arr = np.array([1,2,3])\n",
    "print(arr.dtype)\n",
    "\n",
    "print(arr.astype(np.int8).dtype)\n",
    "\n",
    "arr = np.array([1.1,2.34,3.14])\n",
    "\n",
    "print(arr.dtype)\n",
    "\n",
    "print(arr.astype(int))"
   ]
  },
  {
   "cell_type": "markdown",
   "id": "d3f20f46",
   "metadata": {},
   "source": [
    "You can covert array of string representing numbers to numeber dtype and vice verse using np.string_. However, since numpy works only with fixed sizes, it may truncate string input data."
   ]
  },
  {
   "cell_type": "code",
   "execution_count": 67,
   "id": "d99a8bb0",
   "metadata": {},
   "outputs": [
    {
     "name": "stdout",
     "output_type": "stream",
     "text": [
      "[b'1' b'2' b'3']\n",
      "[1 2 3]\n",
      "[b'1' b'2' b'3']\n"
     ]
    }
   ],
   "source": [
    "arr = np.array([\"1\",\"2\",\"3\"],dtype=np.string_)\n",
    "\n",
    "print(arr)\n",
    "\n",
    "print(arr.astype(int))\n",
    "\n",
    "arr = arr.astype(int)\n",
    "\n",
    "print(arr.astype(np.string_))"
   ]
  },
  {
   "cell_type": "markdown",
   "id": "a4dfab8a",
   "metadata": {},
   "source": [
    "### Arithmetic with numpy arrays\n",
    "\n",
    "Without the ability to perform arithmetic operations, numpy would not be that useful. Any arithmetic operations between two equal sized arrays will yield elementwise operation. This involves batch operations on elements rather than using loops which is termed as *vectorization*."
   ]
  },
  {
   "cell_type": "code",
   "execution_count": 70,
   "id": "e62343f1",
   "metadata": {},
   "outputs": [
    {
     "name": "stdout",
     "output_type": "stream",
     "text": [
      "[[1 2 3]\n",
      " [4 5 6]]\n",
      "\n",
      "Addition:\n",
      " [[ 2  4  6]\n",
      " [ 8 10 12]]\n",
      "\n",
      "Subtraction\n",
      " [[0 0 0]\n",
      " [0 0 0]]\n",
      "\n",
      "Multiplication:\n",
      " [[ 1  4  9]\n",
      " [16 25 36]]\n",
      "\n",
      "Division:\n",
      " [[1. 1. 1.]\n",
      " [1. 1. 1.]]\n"
     ]
    }
   ],
   "source": [
    "arr = np.array([[1,2,3],[4,5,6]])\n",
    "\n",
    "print(arr)\n",
    "\n",
    "print(\"\\nAddition:\\n\", arr + arr)\n",
    "\n",
    "print(\"\\nSubtraction\\n\", arr - arr)\n",
    "\n",
    "print(\"\\nMultiplication:\\n\", arr * arr)\n",
    "\n",
    "print(\"\\nDivision:\\n\", arr / arr)"
   ]
  },
  {
   "cell_type": "markdown",
   "id": "6fdbcaad",
   "metadata": {},
   "source": [
    "References:-\n",
    "\n",
    "[1] https://towardsdatascience.com/decoding-the-performance-secret-of-worlds-most-popular-data-science-library-numpy-7a7da54b7d72"
   ]
  }
 ],
 "metadata": {
  "kernelspec": {
   "display_name": "Python 3",
   "language": "python",
   "name": "python3"
  },
  "language_info": {
   "codemirror_mode": {
    "name": "ipython",
    "version": 3
   },
   "file_extension": ".py",
   "mimetype": "text/x-python",
   "name": "python",
   "nbconvert_exporter": "python",
   "pygments_lexer": "ipython3",
   "version": "3.9.2"
  }
 },
 "nbformat": 4,
 "nbformat_minor": 5
}
